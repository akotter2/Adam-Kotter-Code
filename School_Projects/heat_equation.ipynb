{
 "cells": [
  {
   "cell_type": "code",
   "execution_count": 1,
   "metadata": {},
   "outputs": [],
   "source": [
    "import numpy as np\n",
    "import matplotlib.pyplot as plt\n",
    "import scipy.linalg as la\n",
    "import matplotlib.animation as animation"
   ]
  },
  {
   "cell_type": "code",
   "execution_count": 2,
   "metadata": {},
   "outputs": [],
   "source": [
    "%matplotlib inline"
   ]
  },
  {
   "cell_type": "markdown",
   "metadata": {},
   "source": [
    "# Problem 1\n",
    "\n",
    "Consider the initial/boundary value problem\n",
    "\n",
    "\\begin{align}\n",
    "\t\\begin{split}\n",
    "\t&{ } u_t = .05 u_{xx}, \\quad x \\in [0,1], \\quad t \\in [0,1]\\\\\n",
    "\t&{ } u(0,t) = 0,\\quad u(1,t) = 0,\\\\\n",
    "\t&{ } u(x,0) = 2\\max\\{.2 - |x-.5|,0\\}.\n",
    "\t\\end{split}\n",
    "\\end{align}\n",
    "\n",
    "Approximate the solution $u(x,t)$ at time $t = .4$ by taking 6 subintervals in the $x$ dimension and 10 subintervals in time."
   ]
  },
  {
   "cell_type": "code",
   "execution_count": 3,
   "metadata": {},
   "outputs": [
    {
     "data": {
      "image/png": "[encoded data removed]",
      "text/plain": [
       "<Figure size 432x288 with 1 Axes>"
      ]
     },
     "metadata": {
      "needs_background": "light"
     },
     "output_type": "display_data"
    }
   ],
   "source": [
    "#Create a function that solves initial/boundary value problems for the heat equation\n",
    "def heat_solver(at,bt,ax,bx,xn,tn,nu,U0):\n",
    "    \"\"\"Parameters:\n",
    "        at (float): Initial t value\n",
    "        bt (float): Final t value\n",
    "        ax (float): Smallest x value\n",
    "        bx (float): Largest x value\n",
    "        xn (int): Number of x subintervals\n",
    "        tn (int): Number of t subintervals\n",
    "        nu (float): Value of nu in u_t = nu*u_xx\n",
    "        U0 (n-darray): Initial values for u(x,0)\n",
    "    Returns:\n",
    "        sol (n-darray): Solution to the heat equation \"\"\"\n",
    "    #Set up the initial conditions\n",
    "    xs = np.linspace(ax,bx,xn+1)\n",
    "    ts = np.linspace(at,bt,tn+1)\n",
    "    k = ts[1] - ts[0]\n",
    "    h = xs[1] - xs[0]\n",
    "    lambd = nu*k/h**2\n",
    "    #Set up the time propagation matrix\n",
    "    A = (1-2*lambd)*np.eye(xn+1) + np.diag(lambd*np.ones(xn),k=1) + np.diag(lambd*np.ones(xn),k=-1)\n",
    "    A[0,0] = 1\n",
    "    A[xn,xn] = 1\n",
    "    A[0,1] = 0\n",
    "    A[xn,xn-1] = 0\n",
    "    #Propagate\n",
    "    sol = np.zeros([xn+1,tn+1])\n",
    "    sol[:,0] = U0\n",
    "    for j in np.arange(1,tn+1):\n",
    "        sol[:,j] = A@sol[:,j-1]\n",
    "    return sol\n",
    "\n",
    "#Solve the heat equation for the given problem\n",
    "xs = np.linspace(0,1,6+1)\n",
    "U0 = 2*np.array([np.max([0.2-np.abs(x-0.5), 0]) for x in xs])\n",
    "sol = heat_solver(0,1,0,1,6,10,0.05,U0)\n",
    "#Plot the solution at t = 0.4\n",
    "plt.title(\"Solution at $t=0.4$\")\n",
    "plt.xlabel(\"x\")\n",
    "plt.ylabel(\"u\")\n",
    "plt.ylim(-0.1,0.5)\n",
    "plt.plot(np.linspace(0,1,6+1),sol[:,4])\n",
    "plt.show()"
   ]
  },
  {
   "cell_type": "markdown",
   "metadata": {},
   "source": [
    "# Problem 2\n",
    "\n",
    "Solve the initial/boundary value problem\n",
    "\n",
    "\\begin{align}\n",
    "\t\\begin{split}\n",
    "\t&{ } u_t = u_{xx}, \\quad x \\in [-12,12],\\quad t \\in [0,1], \\\\\n",
    "\t&{ } u(-12,t) = 0,\\quad u(12,t) = 0,\\\\\n",
    "\t&{ } u(x,0) = \\max\\{1 - x^2,0\\}\n",
    "\t\\end{split}\n",
    "\\end{align}\n",
    "\n",
    "using the first order explicit method (1.1).\n",
    "Use 140 subintervals in the $x$ dimension and 70 subintervals in time.\n",
    "The initial and final states are shown in Figures 1 and 2.\n",
    "Animate your results.\n",
    "\n",
    "Explicit methods usually have a stability condition, called a CFL condition (for Courant-Friedrichs-Lewy).\n",
    "For method (1.1) the CFL condition that must be satisfied is that:\n",
    "\n",
    "$$\\lambda \\leq \\frac{1}{2}$$\n",
    "\n",
    "Repeat your computations using 140 subintervals in the $x$ dimension and 66 subintervals in time. Animate the results.\n",
    "For these values the CFL condition is broken; you should easily see the result of this instability in the approximation $U^{66}$.\n"
   ]
  },
  {
   "cell_type": "code",
   "execution_count": 4,
   "metadata": {},
   "outputs": [
    {
     "data": {
      "image/png": "[encoded data removed]",
      "text/plain": [
       "<Figure size 432x288 with 1 Axes>"
      ]
     },
     "metadata": {
      "needs_background": "light"
     },
     "output_type": "display_data"
    }
   ],
   "source": [
    "#Solve the heat equation for the given problem\n",
    "\n",
    "U0 = np.array([np.max([1-x**2, 0]) for x in np.linspace(-12,12,140+1)])\n",
    "sol = heat_solver(0,1,-12,12,140,70,1,U0)\n",
    "\n",
    "#Prepare for saving the animation\n",
    "animation.writer = animation.writers[\"ffmpeg\"]\n",
    "\n",
    "#Animate the solution\n",
    "\n",
    "#Define the x- and y-points over time\n",
    "x = np.linspace(-12, 12, 140+1)\n",
    "y = sol\n",
    "\n",
    "#Create the figure, axes, and curve\n",
    "fig = plt.figure()\n",
    "ax = fig.add_subplot(111)\n",
    "ax.set_xlim(-12, 12)\n",
    "ax.set_ylim(0, 1)\n",
    "curve, = plt.plot([], [])\n",
    "\n",
    "#Create the update function\n",
    "def update(i):\n",
    "    curve.set_data(x, y[:,i])\n",
    "    return curve\n",
    "\n",
    "#Create and save the animation\n",
    "anim = animation.FuncAnimation(fig, update, frames=71, interval=50)\n",
    "plt.title(\"Solution to $u_t = u_{xx}$ (Stable)\")\n",
    "plt.xlabel(\"x\")\n",
    "plt.ylabel(\"u\")\n",
    "anim.save(\"heat_equation1.mp4\")"
   ]
  },
  {
   "cell_type": "markdown",
   "metadata": {},
   "source": [
    "<video src=\"heat_equation1.mp4\" controls>"
   ]
  },
  {
   "cell_type": "code",
   "execution_count": 5,
   "metadata": {},
   "outputs": [
    {
     "data": {
      "image/png": "[encoded data removed]",
      "text/plain": [
       "<Figure size 432x288 with 1 Axes>"
      ]
     },
     "metadata": {
      "needs_background": "light"
     },
     "output_type": "display_data"
    }
   ],
   "source": [
    "#Repeat the above with 66 time subintervals instead of 70\n",
    "\n",
    "#Solve the heat equation for the given problem\n",
    "\n",
    "U0 = np.array([np.max([1-x**2, 0]) for x in np.linspace(-12,12,140+1)])\n",
    "sol = heat_solver(0,1,-12,12,140,66,1,U0)\n",
    "\n",
    "#Prepare for saving the animation\n",
    "animation.writer = animation.writers[\"ffmpeg\"]\n",
    "\n",
    "#Animate the solution\n",
    "\n",
    "#Define the x- and y-points over time\n",
    "x = np.linspace(-12, 12, 140+1)\n",
    "y = sol\n",
    "\n",
    "#Create the figure, axes, and curve\n",
    "fig = plt.figure()\n",
    "ax = fig.add_subplot(111)\n",
    "ax.set_xlim(-12, 12)\n",
    "ax.set_ylim(0, 1)\n",
    "curve, = plt.plot([], [])\n",
    "\n",
    "#Create the update function\n",
    "def update(i):\n",
    "    curve.set_data(x, y[:,i])\n",
    "    return curve\n",
    "\n",
    "#Create and save the animation\n",
    "anim = animation.FuncAnimation(fig, update, frames=67, interval=50)\n",
    "plt.title(\"Solution to $u_t = u_{xx}$ (Unstable)\")\n",
    "plt.xlabel(\"x\")\n",
    "plt.ylabel(\"u\")\n",
    "anim.save(\"heat_equation2.mp4\")"
   ]
  },
  {
   "cell_type": "markdown",
   "metadata": {},
   "source": [
    "<video src=\"heat_equation2.mp4\" controls>"
   ]
  },
  {
   "cell_type": "markdown",
   "metadata": {},
   "source": [
    "# Problem 3\n",
    "\n",
    "Using the Crank Nicolson method, numerically approximate the solution $u(x,t)$ of the problem\n",
    "\n",
    "\\begin{align}\n",
    "\t\\begin{split}\n",
    "\t&{ } u_t = u_{xx}, \\quad x \\in [-12,12],\\quad t \\in [0,1],\\\\\n",
    "\t&{ } u(-12,t) = 0,\\quad u(12,t) = 0,\\\\\n",
    "\t&{ } u(x,0) = \\max\\{1 - x^2,0\\}.\n",
    "\t\\end{split}\n",
    "\\end{align}\n",
    "\n",
    "Demonstrate that the numerical approximation at $t = 1$ converges to  $u(x,t=1)$.\n",
    "Do this by computing $U$ at $t=1$ using $20,40,80,160,320$, and $640$ steps.\n",
    "Use the same number of steps in both time and space.\n",
    "Reproduce the loglog plot shown in Figure 4.\n",
    "The slope of the line there shows the proper rate of convergence.\n",
    "\n",
    "To measure the error, use the solution with the smallest $h$ (largest number of intervals) as if it were the exact solution, then sample each solution only at the x-values that are represented in the solution with the largest $h$ (smallest number of intervals).\n",
    "Use the $\\infty$-norm on the arrays of values at those points to measure the error.\n",
    "\n",
    "Notice that, since the Crank-Nicolson method is unconditionally stable, there is no CFL condition and we can use the same number of intervals in time and space."
   ]
  },
  {
   "cell_type": "code",
   "execution_count": 6,
   "metadata": {},
   "outputs": [],
   "source": [
    "def heat_cn(nu,f,xbounds,tbounds,xsteps,tsteps):\n",
    "    \"\"\"Computes the Crank-Nicholson solution to the heat equation initial/boundary\n",
    "    value problem:\n",
    "    \n",
    "        u_t = νu_xx, x∈[x0,x1] t∈[t0,t1]\n",
    "        u(x0,t) = 0, u(x1,t) = 0\n",
    "        u(x,0) = f(x)\n",
    "    \"\"\"\n",
    "    #Set up the initial conditions\n",
    "    xs = np.linspace(xbounds[0], xbounds[1], xsteps+1)\n",
    "    ts = np.linspace(tbounds[0], tbounds[1], tsteps+1)\n",
    "    k = ts[1] - ts[0]\n",
    "    h = xs[1] - xs[0]\n",
    "    lambd = nu*k/h**2\n",
    "    U0 = [f(x) for x in xs]\n",
    "    #Define A\n",
    "    A = (1-2*lambd)*np.eye(xsteps+1) + np.diag(lambd*np.ones(xsteps),k=1) + np.diag(lambd*np.ones(xsteps),k=-1)\n",
    "    A[0,0] = 1\n",
    "    A[xsteps,xsteps] = 1\n",
    "    A[0,1] = 0\n",
    "    A[xsteps,xsteps-1] = 0\n",
    "    #Define B\n",
    "    B = (1+2*lambd)*np.eye(xsteps+1) + np.diag(-lambd*np.ones(xsteps),k=1) + np.diag(-lambd*np.ones(xsteps),k=-1)\n",
    "    B[0,0] = 1\n",
    "    B[xsteps,xsteps] = 1\n",
    "    B[0,1] = 0\n",
    "    B[xsteps,xsteps-1] = 0\n",
    "    #Compute and return the solution\n",
    "    B_inv = la.inv(B)\n",
    "    sol = np.zeros([xsteps+1,tsteps+1])\n",
    "    sol[:,0] = U0\n",
    "    for j in np.arange(1,tsteps+1):\n",
    "        sol[:,j] = B_inv@A@sol[:,j-1]\n",
    "    return sol"
   ]
  },
  {
   "cell_type": "code",
   "execution_count": 7,
   "metadata": {},
   "outputs": [
    {
     "data": {
      "image/png": "[encoded data removed]",
      "text/plain": [
       "<Figure size 432x288 with 1 Axes>"
      ]
     },
     "metadata": {
      "needs_background": "light"
     },
     "output_type": "display_data"
    }
   ],
   "source": [
    "#Get the \"real\" solution for the IVP\n",
    "func = lambda x: np.max([0, 1.-x**2])\n",
    "real_sol = heat_cn(1,func,(-12,12),(0,1),640,640)\n",
    "#Approximate solutions for the IVP\n",
    "errors = np.zeros(5)\n",
    "hs = np.zeros(5)\n",
    "for i, steps in enumerate([320, 160, 80, 40, 20]):\n",
    "    sol_apprx = heat_cn(1,func,(-12,12),(0,1),steps,steps)\n",
    "    errors[i] = np.max(np.abs(sol_apprx[:,-1] - real_sol[::int(640/steps),-1]))\n",
    "    intrvl = np.linspace(-12,12,steps+1)\n",
    "    hs[i] = intrvl[1] - intrvl[0]\n",
    "#Plot\n",
    "plt.loglog(hs, errors, label=r\"$E(h)$\")\n",
    "plt.loglog(hs, hs**2, label=r\"$h^2$\")\n",
    "plt.legend()\n",
    "plt.xlabel(\"$h$\")\n",
    "plt.title(\"Error by Step Size\")\n",
    "plt.show()"
   ]
  },
  {
   "cell_type": "code",
   "execution_count": 22,
   "metadata": {},
   "outputs": [
    {
     "data": {
      "image/png": "[encoded data removed]",
      "text/plain": [
       "<Figure size 432x288 with 1 Axes>"
      ]
     },
     "metadata": {
      "needs_background": "light"
     },
     "output_type": "display_data"
    }
   ],
   "source": [
    "#Practice with other problems\n",
    "t_initial = 0\n",
    "t_final = 5\n",
    "x_left = -12\n",
    "x_right = 12\n",
    "num_x_steps = 140\n",
    "num_t_steps = 1000\n",
    "nu = 1\n",
    "U0 = np.zeros(num_x_steps+1)\n",
    "U0[int(num_x_steps/2)] = 2\n",
    "U0[int(num_x_steps/2)+1] = 1\n",
    "U0[int(num_x_steps/2)-1] = 1\n",
    "U0[int(3*num_x_steps/4)] = 1\n",
    "U0[int(num_x_steps/4)] = 1\n",
    "sol = heat_solver(t_initial,t_final,x_left,x_right,num_x_steps,num_t_steps,nu,U0)\n",
    "\n",
    "#Prepare for saving the animation\n",
    "animation.writer = animation.writers[\"ffmpeg\"]\n",
    "\n",
    "#Animate the solution\n",
    "\n",
    "#Define the x- and y-points over time\n",
    "x = np.linspace(x_left, x_right, num_x_steps+1)\n",
    "y = sol\n",
    "\n",
    "#Create the figure, axes, and curve\n",
    "fig = plt.figure()\n",
    "ax = fig.add_subplot(111)\n",
    "ax.set_xlim(x_left, x_right)\n",
    "ax.set_ylim(0, 2)\n",
    "curve, = plt.plot([], [])\n",
    "\n",
    "#Create the update function\n",
    "def update(i):\n",
    "    curve.set_data(x, y[:,i])\n",
    "    return curve\n",
    "\n",
    "#Create and save the animation\n",
    "anim = animation.FuncAnimation(fig, update, frames=num_t_steps+1, interval=50)\n",
    "plt.title(\"Solution to $u_t = u_{xx}$\")\n",
    "plt.xlabel(\"x\")\n",
    "plt.ylabel(\"u\")\n",
    "anim.save(\"heat_equation_test.mp4\")"
   ]
  },
  {
   "cell_type": "markdown",
   "metadata": {},
   "source": [
    "<video src=\"heat_equation_test.mp4\" controls>"
   ]
  },
  {
   "cell_type": "code",
   "execution_count": null,
   "metadata": {},
   "outputs": [],
   "source": []
  }
 ],
 "metadata": {
  "kernelspec": {
   "display_name": "Python 3",
   "language": "python",
   "name": "python3"
  },
  "language_info": {
   "codemirror_mode": {
    "name": "ipython",
    "version": 3
   },
   "file_extension": ".py",
   "mimetype": "text/x-python",
   "name": "python",
   "nbconvert_exporter": "python",
   "pygments_lexer": "ipython3",
   "version": "3.7.3"
  }
 },
 "nbformat": 4,
 "nbformat_minor": 2
}
