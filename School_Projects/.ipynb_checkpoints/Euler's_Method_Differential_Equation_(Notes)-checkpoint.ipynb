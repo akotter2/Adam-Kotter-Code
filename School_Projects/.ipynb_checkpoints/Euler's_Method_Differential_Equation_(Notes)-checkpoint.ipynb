{
 "cells": [
  {
   "cell_type": "code",
   "execution_count": 12,
   "metadata": {},
   "outputs": [],
   "source": [
    "import numpy as np\n",
    "from matplotlib import pyplot as plt\n",
    "from scipy import linalg as la"
   ]
  },
  {
   "cell_type": "markdown",
   "metadata": {},
   "source": [
    "Solves for the equation $y''' + ay'' + by' + cy = 0$, where the initial conditions are $y''(0) = \\alpha$ , $y'(0) = \\beta$ , and $y(0) = \\gamma$."
   ]
  },
  {
   "cell_type": "code",
   "execution_count": 58,
   "metadata": {},
   "outputs": [
    {
     "name": "stdout",
     "output_type": "stream",
     "text": [
      "[[ 0  1  0]\n",
      " [ 0  0  1]\n",
      " [ 8 -2  0]]\n"
     ]
    }
   ],
   "source": [
    "c = 8\n",
    "b = -2\n",
    "a = 0\n",
    "A = np.array([[0,1,0],[0,0,1],[c,b,a]])\n",
    "alpha = 2\n",
    "beta = 3\n",
    "gamma = 1\n",
    "print(A)"
   ]
  },
  {
   "cell_type": "code",
   "execution_count": 59,
   "metadata": {},
   "outputs": [
    {
     "data": {
      "image/png": "[encoded data removed]",
      "text/plain": [
       "<Figure size 432x288 with 1 Axes>"
      ]
     },
     "metadata": {
      "needs_background": "light"
     },
     "output_type": "display_data"
    }
   ],
   "source": [
    "n = 50000\n",
    "t_step = 10/(n+1)\n",
    "T = np.eye(3) + t_step*A\n",
    "y0 = np.array([[2],[3],[1]])\n",
    "yt = np.zeros(shape=(3,n))\n",
    "yt[0,0] = gamma\n",
    "yt[1,0] = beta\n",
    "yt[2,0] = alpha\n",
    "for i,t in enumerate(np.linspace(t_step,10,n-1)):\n",
    "    yt[:,i+1] = T@yt[:,i]\n",
    "plt.plot(np.linspace(0,10,n),yt[0,:])\n",
    "plt.show()"
   ]
  },
  {
   "cell_type": "code",
   "execution_count": null,
   "metadata": {},
   "outputs": [],
   "source": []
  }
 ],
 "metadata": {
  "kernelspec": {
   "display_name": "Python 3",
   "language": "python",
   "name": "python3"
  },
  "language_info": {
   "codemirror_mode": {
    "name": "ipython",
    "version": 3
   },
   "file_extension": ".py",
   "mimetype": "text/x-python",
   "name": "python",
   "nbconvert_exporter": "python",
   "pygments_lexer": "ipython3",
   "version": "3.7.3"
  }
 },
 "nbformat": 4,
 "nbformat_minor": 2
}
